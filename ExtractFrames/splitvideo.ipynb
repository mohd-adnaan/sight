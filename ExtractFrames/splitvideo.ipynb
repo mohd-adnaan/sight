{
 "cells": [
  {
   "cell_type": "code",
   "execution_count": 3,
   "metadata": {},
   "outputs": [],
   "source": [
    "import cv2\n",
    "import os\n",
    "\n",
    "# Directory containing videos\n",
    "video_folder = 'videos'\n",
    "\n",
    "# Directory where images will be saved\n",
    "output_directory = 'extracted'\n",
    "os.makedirs(output_directory, exist_ok=True)\n",
    "\n",
    "# Loop through each video file in the video_folder\n",
    "for filename in os.listdir(video_folder):\n",
    "    if filename.endswith('.MOV'):  # Check for .MOV files, you can adjust for other formats\n",
    "        video_path = os.path.join(video_folder, filename)\n",
    "\n",
    "        # Open the video\n",
    "        cap = cv2.VideoCapture(video_path)\n",
    "\n",
    "        # Total number of frames in the video\n",
    "        total_frames = int(cap.get(cv2.CAP_PROP_FRAME_COUNT))\n",
    "\n",
    "        # Interval for frame extraction, dividing by 199 to include first and last frames\n",
    "        interval = total_frames // 99\n",
    "\n",
    "        # Counter for frames and extracted images\n",
    "        frame_count = 0\n",
    "        extracted_count = 0\n",
    "\n",
    "        success, image = cap.read()\n",
    "\n",
    "        # Loop through frames\n",
    "        while success and extracted_count < 100:\n",
    "            # Check if the current frame is to be extracted\n",
    "            if frame_count % interval == 0 or extracted_count == 100:  # Ensure the last frame is included\n",
    "                # Adjust the output filename to include the video filename\n",
    "                output_file = f'{os.path.splitext(filename)[0]}_frame_{extracted_count}.jpg'\n",
    "                cv2.imwrite(os.path.join(output_directory, output_file), image)\n",
    "                extracted_count += 1\n",
    "\n",
    "            # Read next frame\n",
    "            success, image = cap.read()\n",
    "            frame_count += 1\n",
    "\n",
    "        cap.release()\n"
   ]
  }
 ],
 "metadata": {
  "kernelspec": {
   "display_name": "Python 3",
   "language": "python",
   "name": "python3"
  },
  "language_info": {
   "codemirror_mode": {
    "name": "ipython",
    "version": 3
   },
   "file_extension": ".py",
   "mimetype": "text/x-python",
   "name": "python",
   "nbconvert_exporter": "python",
   "pygments_lexer": "ipython3",
   "version": "3.11.5"
  }
 },
 "nbformat": 4,
 "nbformat_minor": 2
}
